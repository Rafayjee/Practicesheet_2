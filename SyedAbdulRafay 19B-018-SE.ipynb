{
 "cells": [
  {
   "cell_type": "markdown",
   "metadata": {},
   "source": [
    "# Python User Define Function Practice Activity - 2 "
   ]
  },
  {
   "cell_type": "markdown",
   "metadata": {},
   "source": [
    "Asst. Prof. Syed Faisal Ali              $\\;\\;\\;\\;\\;\\;$              Programming Fundamentals - FALL 2019 $\\;\\;\\;\\;\\;\\;$ Software Engineering                     $\\;\\;\\;\\;\\;\\;$                   Dated: 27 Nov 2019"
   ]
  },
  {
   "cell_type": "markdown",
   "metadata": {},
   "source": [
    "Question 1: Create a function to find the following:\n",
    "If the base of triangle is 3 cm long and its equilateral triangle and the radius of circle is 1.5 cm then find the area of triangle shaded. \n"
   ]
  },
  {
   "cell_type": "markdown",
   "metadata": {},
   "source": [
    "![proj](q1.jpg)"
   ]
  },
  {
   "cell_type": "code",
   "execution_count": 15,
   "metadata": {},
   "outputs": [
    {
     "name": "stdout",
     "output_type": "stream",
     "text": [
      "The area of triangele is: 3.8971143170299736\n",
      "time taken 4 min\n"
     ]
    }
   ],
   "source": [
    "from math import sqrt\n",
    "def area(a):\n",
    "    frmula = sqrt(3)/4*a**2\n",
    "    return frmula\n",
    "print(\"The area of triangele is:\",area(3))\n",
    "print(\"time taken 4 min\")"
   ]
  },
  {
   "cell_type": "markdown",
   "metadata": {},
   "source": [
    "Question 2: Create a function which can read a dictionary of your family members such as 5 members. \n",
    "1 Abbu, 1 Ammi, 2 Brothers 1 Sister. Now feed this data in dictionary in terms of name and relations.\n",
    "The UDF will ask findrelation() in this you will enter Brother it will return the names of two brothers you have inserted. In case if the relation is not found it will return “Sorry the relation doesn’t exist in your family.” \n"
   ]
  },
  {
   "cell_type": "code",
   "execution_count": 16,
   "metadata": {},
   "outputs": [
    {
     "name": "stdout",
     "output_type": "stream",
     "text": [
      "['Tahir']\n"
     ]
    }
   ],
   "source": [
    "def findrelation(Relation):\n",
    "    family = {'mother' : ['Mommy'] , 'father' : ['Tahir'] ,'brother' : ['daniyal'] , 'sister' : ['javeria']  }\n",
    "    if Relation.lower() in family:\n",
    "        print(family.get(Relation.lower()))\n",
    "    else:\n",
    "        print(\"Sorry Relation Does not exist in your family\")\n",
    "findrelation('father')"
   ]
  },
  {
   "cell_type": "markdown",
   "metadata": {},
   "source": [
    "Question 3: Create a function to find the following:\n",
    "If the base of triangle is 5 cm long and its equilateral triangle and the radius of circle is 2.25 cm then find the area of triangle shaded. \n"
   ]
  },
  {
   "cell_type": "markdown",
   "metadata": {},
   "source": [
    "![proj](q3.jpg)"
   ]
  },
  {
   "cell_type": "code",
   "execution_count": 17,
   "metadata": {},
   "outputs": [
    {
     "name": "stdout",
     "output_type": "stream",
     "text": [
      "The area of  triangele is: 10.825317547305483\n",
      "Time taken 4 min\n"
     ]
    }
   ],
   "source": [
    "from math import sqrt\n",
    "def area(a):\n",
    "    frmula = sqrt(3)/4*a**2\n",
    "    return frmula\n",
    "print(\"The area of  triangele is:\",area(5))\n",
    "print(\"Time taken 4 min\")"
   ]
  },
  {
   "cell_type": "markdown",
   "metadata": {},
   "source": [
    "Question 4:\n",
    "Create a function that takes a list of random numbers from users and add only those which are even. If all the numbers are odd it will return sorry no even number found.\n"
   ]
  },
  {
   "cell_type": "code",
   "execution_count": null,
   "metadata": {},
   "outputs": [],
   "source": []
  },
  {
   "cell_type": "markdown",
   "metadata": {},
   "source": [
    "Question 5:\n",
    "Write a function which can take a list of numbers and it will return sorted list.\n"
   ]
  },
  {
   "cell_type": "code",
   "execution_count": null,
   "metadata": {},
   "outputs": [],
   "source": []
  },
  {
   "cell_type": "markdown",
   "metadata": {},
   "source": [
    "Question 6:\n",
    "Write a function that will take the radius and return the perimeter and area of circle with 5% increment.\n"
   ]
  },
  {
   "cell_type": "code",
   "execution_count": 8,
   "metadata": {},
   "outputs": [
    {
     "name": "stdout",
     "output_type": "stream",
     "text": [
      "Area =  113.09733552923255\n",
      "Perimeter =  37.69911184307752\n"
     ]
    }
   ],
   "source": [
    "from math import pi\n",
    "def area_circle(pi, radius): \n",
    "    return (pi * radius**2) \n",
    "  \n",
    "def perimeter_circle(a, pi, radius): \n",
    "    return (2 * pi *  radius) \n",
    "   \n",
    "a = 2; \n",
    "radius = 6; \n",
    "print (\"Area = \", area_circle(pi, radius)) \n",
    "print (\"Perimeter = \", perimeter_circle(a, pi, radius))\n",
    "\n"
   ]
  },
  {
   "cell_type": "markdown",
   "metadata": {},
   "source": [
    "Question 7:\n",
    "Write a function that will take the strings as argument and return number of vowels and consonants.\n"
   ]
  },
  {
   "cell_type": "code",
   "execution_count": 7,
   "metadata": {},
   "outputs": [
    {
     "name": "stdout",
     "output_type": "stream",
     "text": [
      "Number of vowels are: 10\n"
     ]
    }
   ],
   "source": [
    "a = (\"Usman Institute of Technology\")\n",
    "vowels=0\n",
    "for i in a:\n",
    "      if(i=='a' or i=='e' or i=='i' or i=='o' or i=='u' or i=='A' or i=='E' or i=='I' or i=='O' or i=='U'):\n",
    "            vowels=vowels+1\n",
    "print(\"Number of vowels are:\", vowels)\n"
   ]
  },
  {
   "cell_type": "markdown",
   "metadata": {},
   "source": [
    "Question 8:\n",
    "Write a function that will take length and breadth for a rectangle and return perimeter and area of rectangle with 8% increment.\n"
   ]
  },
  {
   "cell_type": "code",
   "execution_count": 6,
   "metadata": {},
   "outputs": [
    {
     "name": "stdout",
     "output_type": "stream",
     "text": [
      "Area =  30\n",
      "Perimeter =  1.76\n"
     ]
    }
   ],
   "source": [
    "def areaRectangle(a, b): \n",
    "    return (a * b) \n",
    "  \n",
    "def perimeterRectangle(a, b): \n",
    "    return (2 * (a + b)*0.08) \n",
    "   \n",
    "a = 5; \n",
    "b = 6; \n",
    "print (\"Area = \", areaRectangle(a, b)) \n",
    "print (\"Perimeter = \", perimeterRectangle(a, b))\n"
   ]
  },
  {
   "cell_type": "markdown",
   "metadata": {},
   "source": [
    "Question 9:\n",
    "Write a function that can take the numbers in strings. From string find which number is even and which one is odd. Save them in two different lists and generate the result.\n"
   ]
  },
  {
   "cell_type": "code",
   "execution_count": null,
   "metadata": {},
   "outputs": [],
   "source": []
  },
  {
   "cell_type": "markdown",
   "metadata": {},
   "source": [
    "Question 10:\n",
    "Write a function which will take the string from the user and return how many alphabets have been used in it and which alphabets are missing.\n"
   ]
  },
  {
   "cell_type": "code",
   "execution_count": 14,
   "metadata": {},
   "outputs": [
    {
     "name": "stdout",
     "output_type": "stream",
     "text": [
      "Enter string : abcdefz\n",
      "Following alphabets are used:['a', 'b', 'c', 'd', 'e', 'f', 'z']\n",
      "Following alphabets are not used:['g', 'h', 'i', 'j', 'k', 'l', 'm', 'n', 'o', 'p', 'q', 'r', 's', 't', 'u', 'v', 'w', 'x', 'y']\n"
     ]
    }
   ],
   "source": [
    "def checkLetter(string):\n",
    "    listAlphabets = []\n",
    "    characters = ['a','b','c','d','e','f','g','h','i','j','k','l','m','n','o','p','q','r','s','t','u','v','w','x','y','z']\n",
    "    for i in range(0,len(string)):\n",
    "        flag = 1\n",
    "        for x in range (0,len(listAlphabets)):\n",
    "            if listAlphabets[x] == string[i] :\n",
    "                flag = 0\n",
    "                continue\n",
    "        if (flag):      \n",
    "            listAlphabets.append(string[i])\n",
    "            characters.remove(string[i])\n",
    "    return [listAlphabets,characters]\n",
    "\n",
    "\n",
    "string = input(\"Enter string : \")\n",
    "listLetters =checkLetter(string)\n",
    "print(\"Following alphabets are used:\"+str(listLetters[0]))\n",
    "print(\"Following alphabets are not used:\"+str(listLetters[1]))"
   ]
  },
  {
   "cell_type": "markdown",
   "metadata": {},
   "source": [
    "Question 11:\n",
    "Write a function that will take verbs in words and return a list of verbs with continuous tense by adding (ing) at the end of each verb.\n"
   ]
  },
  {
   "cell_type": "code",
   "execution_count": null,
   "metadata": {},
   "outputs": [],
   "source": []
  },
  {
   "cell_type": "markdown",
   "metadata": {},
   "source": [
    "Question 12:\n",
    "Make a function which can take two radius of circles and find the areas of it and subtract smaller one from larger one and tell the remaining area of circle.\n"
   ]
  },
  {
   "cell_type": "code",
   "execution_count": 10,
   "metadata": {},
   "outputs": [
    {
     "name": "stdout",
     "output_type": "stream",
     "text": [
      "Enter the radius of the circle 1:2\n",
      "Enter the radius of the circle 2:3\n",
      "The difference of areas is :15.707963267948966\n"
     ]
    }
   ],
   "source": [
    "import math\n",
    "def findDiffOfArea(r1,r2):\n",
    "    a1=findArea(r1)\n",
    "    a2=findArea(r2)\n",
    "    \n",
    "    if a1>a2:\n",
    "        return a1-a2\n",
    "    else:\n",
    "        return a2-a1\n",
    "    \n",
    "def findArea(r):\n",
    "    return math.pi * r * r\n",
    "\n",
    "\n",
    "r1 = float(input('Enter the radius of the circle 1:'))\n",
    "r2 = float(input('Enter the radius of the circle 2:'))\n",
    "diff = findDiffOfArea(r1,r2)\n",
    "print('The difference of areas is :'+str(diff))"
   ]
  },
  {
   "cell_type": "markdown",
   "metadata": {},
   "source": [
    "Question 13:\n",
    "Write a function that will take a string and calculate number of Upper case letters and lower case letters.\n"
   ]
  },
  {
   "cell_type": "code",
   "execution_count": 5,
   "metadata": {},
   "outputs": [
    {
     "name": "stdout",
     "output_type": "stream",
     "text": [
      "The number of lowercase characters is:\n",
      "6\n",
      "The number of uppercase characters is:\n"
     ]
    }
   ],
   "source": [
    "a = (\"USMAn INstituTE\")\n",
    "count1=0\n",
    "count2=0\n",
    "for i in a:\n",
    "      if(i.islower()):\n",
    "            count1=count1+1\n",
    "      elif(i.isupper()):\n",
    "            count2=count2+1\n",
    "print(\"The number of lowercase characters is:\")\n",
    "print(count1)\n",
    "print(\"The number of uppercase characters is:\")\n"
   ]
  },
  {
   "cell_type": "markdown",
   "metadata": {},
   "source": [
    "Question 14:\n",
    "Write a function which will take length and breadth of two rectangles. Subtract the smaller rectangle from the larger rectangle and return the area left behind.\n"
   ]
  },
  {
   "cell_type": "code",
   "execution_count": 11,
   "metadata": {},
   "outputs": [
    {
     "name": "stdout",
     "output_type": "stream",
     "text": [
      "Enter the length of the rectangle 1:2\n",
      "Enter the breadth of the rectangle 1:2\n",
      "Enter the length of the rectangle 2:3\n",
      "Enter the breadth of the rectangle 2:3\n",
      "The difference of areas is :5.0\n"
     ]
    }
   ],
   "source": [
    "def findDiffOfRectangle(l1,b1,l2,b2):\n",
    "    a1=findArea(l1,b1)\n",
    "    a2=findArea(l2,b2)\n",
    "    \n",
    "    if a1>a2:\n",
    "        return a1-a2\n",
    "    else:\n",
    "        return a2-a1\n",
    "    \n",
    "def findArea(l,b):\n",
    "    return l*b\n",
    "\n",
    "\n",
    "l1 = float(input('Enter the length of the rectangle 1:'))\n",
    "b1 = float(input('Enter the breadth of the rectangle 1:'))\n",
    "l2 = float(input('Enter the length of the rectangle 2:'))\n",
    "b2 = float(input('Enter the breadth of the rectangle 2:'))\n",
    "diff = findDiffOfRectangle(l1,b1,l2,b2)\n",
    "print('The difference of areas is :'+str(diff))\n"
   ]
  },
  {
   "cell_type": "markdown",
   "metadata": {},
   "source": [
    "Question 15:\n",
    "Create a function that can add the fractions in series such as 1 to 8 = 1/8+1/7+1/6+1/5 …… ½ and return the result in fraction not in decimal.\n"
   ]
  },
  {
   "cell_type": "code",
   "execution_count": null,
   "metadata": {},
   "outputs": [],
   "source": []
  },
  {
   "cell_type": "markdown",
   "metadata": {},
   "source": [
    "Question 16:\n",
    "Write a function which will take height and base for a triangle and \n"
   ]
  },
  {
   "cell_type": "code",
   "execution_count": null,
   "metadata": {},
   "outputs": [],
   "source": [
    "Question is incomplete"
   ]
  },
  {
   "cell_type": "markdown",
   "metadata": {},
   "source": [
    "Question 17:\n",
    "Write a function which will take a list of fruits names. The function will return how many alphabets are repetitive in the names of fruits and how many are unique letters.\n"
   ]
  },
  {
   "cell_type": "code",
   "execution_count": 9,
   "metadata": {},
   "outputs": [
    {
     "name": "stdout",
     "output_type": "stream",
     "text": [
      "1\n",
      "count of letters in fruts list is [['a', 5], ['f', 1], ['r', 1], ['u', 1], ['i', 1], ['t', 1], ['p', 2], ['l', 1], ['e', 1], ['b', 1], ['n', 3], ['m', 1], ['g', 1], ['o', 1]]\n"
     ]
    }
   ],
   "source": [
    "def getCount(listName):\n",
    "    countList = [['a',0]]\n",
    "    print(len(countList))\n",
    "    for item in listName:\n",
    "        for i in range(0,len(item)):\n",
    "            flag = 1\n",
    "            for x in range (0,len(countList)):\n",
    "                if countList[x][0] == item[i] :\n",
    "                    countList[x][1] = countList[x][1] + 1\n",
    "                    flag = 0\n",
    "                    continue\n",
    "            if (flag):      \n",
    "               smallList = [item[i],1]\n",
    "               countList.append(smallList)\n",
    "    return countList\n",
    "print (\"count of letters in fruts list is \"+ str(getCount(['fruit','apple','banana','mango'])))"
   ]
  },
  {
   "cell_type": "markdown",
   "metadata": {},
   "source": [
    "Question 18:\n",
    "Write a function that can take square length and radius of circle. Find the area of both and subtract the smallest shape from largest one and return the remaining shape area.\n"
   ]
  },
  {
   "cell_type": "code",
   "execution_count": 13,
   "metadata": {},
   "outputs": [
    {
     "name": "stdout",
     "output_type": "stream",
     "text": [
      "Enter the radius of the circle:2\n",
      "Enter the length of the square:2\n",
      "After subtracting the smallest shape from largest one, the remaining area is8.566370614359172\n"
     ]
    }
   ],
   "source": [
    "import math\n",
    "def areaOfSquare(l):\n",
    "    return l**2\n",
    "def areaOfCircle(r):\n",
    "    return math.pi * r * r\n",
    "def diffAreaOfShape(r,l):\n",
    "    a1=areaOfSquare(l)\n",
    "    a2=areaOfCircle(r)\n",
    "    if a1>a2:\n",
    "        return a1-a2\n",
    "    else:\n",
    "        return a2-a1\n",
    "r = float(input('Enter the radius of the circle:'))\n",
    "l = float(input('Enter the length of the square:'))\n",
    "print(\"After subtracting the smallest shape from largest one, the remaining area is\"+str(diffAreaOfShape(r,l)))"
   ]
  },
  {
   "cell_type": "code",
   "execution_count": null,
   "metadata": {},
   "outputs": [],
   "source": []
  }
 ],
 "metadata": {
  "kernelspec": {
   "display_name": "Python 3",
   "language": "python",
   "name": "python3"
  },
  "language_info": {
   "codemirror_mode": {
    "name": "ipython",
    "version": 3
   },
   "file_extension": ".py",
   "mimetype": "text/x-python",
   "name": "python",
   "nbconvert_exporter": "python",
   "pygments_lexer": "ipython3",
   "version": "3.7.1"
  }
 },
 "nbformat": 4,
 "nbformat_minor": 2
}
